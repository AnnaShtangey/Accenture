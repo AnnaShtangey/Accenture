{
  "nbformat": 4,
  "nbformat_minor": 0,
  "metadata": {
    "colab": {
      "name": "Accenture.ipynb",
      "provenance": [],
      "collapsed_sections": []
    },
    "kernelspec": {
      "name": "python3",
      "display_name": "Python 3"
    },
    "language_info": {
      "name": "python"
    }
  },
  "cells": [
    {
      "cell_type": "code",
      "metadata": {
        "id": "ixB-WaVwZooS"
      },
      "source": [
        "import cv2 as cv2\n",
        "import numpy as np\n",
        "import pandas as pd"
      ],
      "execution_count": 61,
      "outputs": []
    },
    {
      "cell_type": "code",
      "metadata": {
        "id": "KXVeF0Idb6w1"
      },
      "source": [
        "img_grechka= cv2.imread('/content/drive/MyDrive/Accenture/гречка.jpg')\n",
        "img_perec=cv2.imread('/content/drive/MyDrive/Accenture/перец.jpg')"
      ],
      "execution_count": 2,
      "outputs": []
    },
    {
      "cell_type": "code",
      "metadata": {
        "id": "k-rgpFCJaG5D"
      },
      "source": [
        "grechka = np.array(cv2.cvtColor(img_grechka,cv2.COLOR_BGR2HSV))\n",
        "perec = np.array(cv2.cvtColor(img_perec,cv2.COLOR_BGR2HSV))"
      ],
      "execution_count": 3,
      "outputs": []
    },
    {
      "cell_type": "code",
      "metadata": {
        "colab": {
          "base_uri": "https://localhost:8080/"
        },
        "id": "qTEzOKnEoUZp",
        "outputId": "f8fd3d13-b176-4547-eaf1-2ccd1a944bcd"
      },
      "source": [
        "grechka_pull=[]\n",
        "for elem in grechka:\n",
        "  if [elem in perec]==True:\n",
        "   \n",
        "    pass\n",
        "  else:\n",
        "    flag=0\n",
        "    if grechka_pull !=[]:\n",
        "      for n in range(len(grechka_pull)):\n",
        "        if elem in grechka_pull[n]:\n",
        "          flag=1\n",
        "      if flag==0:\n",
        "        grechka_pull.append(elem)\n",
        "\n",
        "perec_pull=[]\n",
        "for elem in perec:\n",
        "  if [elem in grechka]==True:\n",
        "   \n",
        "    pass\n",
        "  else:\n",
        "    flag=0\n",
        "    if perec_pull !=[]:\n",
        "      for n in range(len(perec_pull)):\n",
        "        if elem in perec_pull[n]:\n",
        "          flag=1\n",
        "      \n",
        "    if flag==0:\n",
        "      perec_pull.append(elem)"
      ],
      "execution_count": 4,
      "outputs": [
        {
          "output_type": "stream",
          "name": "stderr",
          "text": [
            "/usr/local/lib/python3.7/dist-packages/ipykernel_launcher.py:3: DeprecationWarning: elementwise comparison failed; this will raise an error in the future.\n",
            "  This is separate from the ipykernel package so we can avoid doing imports until\n",
            "/usr/local/lib/python3.7/dist-packages/ipykernel_launcher.py:17: DeprecationWarning: elementwise comparison failed; this will raise an error in the future.\n"
          ]
        }
      ]
    },
    {
      "cell_type": "code",
      "metadata": {
        "id": "KtRwQAHurJkJ"
      },
      "source": [
        "img= cv2.imread('/content/drive/MyDrive/Accenture/Вагоны/20211203_152859.jpg')\n",
        "img= np.array(cv2.cvtColor(img,cv2.COLOR_BGR2HSV))"
      ],
      "execution_count": 5,
      "outputs": []
    },
    {
      "cell_type": "code",
      "metadata": {
        "colab": {
          "base_uri": "https://localhost:8080/"
        },
        "id": "UwUV9z3mCReQ",
        "outputId": "b90c674b-0e38-47d8-d3e3-0022b5d373c2"
      },
      "source": [
        "grechka_count=0\n",
        "perec_count=0\n",
        "for elem in img:\n",
        "  for el in elem:\n",
        "    \n",
        "    if elem in grechka:\n",
        "      grechka_count+=1\n",
        "    if elem in perec:\n",
        "      perec_count+=1\n"
      ],
      "execution_count": 6,
      "outputs": [
        {
          "output_type": "stream",
          "name": "stderr",
          "text": [
            "/usr/local/lib/python3.7/dist-packages/ipykernel_launcher.py:6: DeprecationWarning: elementwise comparison failed; this will raise an error in the future.\n",
            "  \n",
            "/usr/local/lib/python3.7/dist-packages/ipykernel_launcher.py:8: DeprecationWarning: elementwise comparison failed; this will raise an error in the future.\n",
            "  \n"
          ]
        }
      ]
    },
    {
      "cell_type": "code",
      "metadata": {
        "id": "cBlRr5yaqow1"
      },
      "source": [
        "\n",
        "#print('Гречки'+ str(grechka_count))\n",
        "\n",
        "#print('Перец'+ str(perec_count))\n",
        "if grechka_count+perec_count !=0:\n",
        "  brak=perec_count/(grechka_count+perec_count)\n",
        "  #print(\"Брак =\" + str(brak*100)+\"%\")\n"
      ],
      "execution_count": 115,
      "outputs": []
    },
    {
      "cell_type": "code",
      "metadata": {
        "id": "A7p7iujogHDK"
      },
      "source": [
        "def get_mark(lotok):\n",
        "  mark = np.random.uniform(low=0.0, high=0.015)\n",
        "  return mark"
      ],
      "execution_count": 137,
      "outputs": []
    },
    {
      "cell_type": "code",
      "metadata": {
        "id": "CmBNGw_ggHLB"
      },
      "source": [
        "def razgruzka(vagon, lotok, max_iters=100, is_printing=True):\n",
        "  logs = pd.DataFrame(columns=[ 'brak_vagon', 'brak_lotok'])\n",
        "  flag_vagon = 0\n",
        "  flag_lotok = 0\n",
        "  flag_iter = 0\n",
        "  flag_while = 0\n",
        "\n",
        "  \n",
        "  for iter in range(max_iters):\n",
        "    flag_iter ==1\n",
        "    \n",
        "\n",
        "    mark_vagon = get_mark(vagon)\n",
        "    mark_lotok = get_mark(lotok)\n",
        "    logs.loc[iter, 'brak_vagon']=mark_vagon\n",
        "    logs.loc[iter, 'brak_lotok']=mark_lotok\n",
        "\n",
        "    \n",
        "\n",
        "    if is_printing:\n",
        "      print('Брака в вагоне, %', str(mark_vagon))\n",
        "      print('Брака в лотке, %', str(mark_lotok))\n",
        "      #print(logs)\n",
        "\n",
        "\n",
        "\n",
        "    if mark_lotok >=0.01:\n",
        "      flag_lotok +=1\n",
        "    else:\n",
        "      flag_lotok=0\n",
        "\n",
        "    if flag_vagon == 1:\n",
        "      if is_printing:\n",
        "        print(\"Разгрузка завершена по причине выявления брака в вагоне на стадии {0:.2%} разгрузки\".format(flag_iter/max_iters))\n",
        "      return False, logs, logs.loc[iter, 'brak_vagon']\n",
        "    if flag_lotok ==5:\n",
        "      if is_printing:\n",
        "        print(\"Разгрузка завершена по причине выявления брака в лотке на стадии {0:.2%} разгрузки\".format(flag_iter/max_iters))\n",
        "      sum_value=0\n",
        "      for n in range(flag_lotok-1):\n",
        "\n",
        "        sum_value += logs.loc[iter-n, 'brak_lotok']\n",
        "      last_value = sum_value/flag_lotok\n",
        "      return False, logs, last_value\n",
        "  if is_printing:\n",
        "        print('Разгрузка завершена успешно')\n",
        "  mean_value = logs['brak_lotok'].mean()\n",
        "  return True, logs, mean_value\n"
      ],
      "execution_count": 138,
      "outputs": []
    },
    {
      "cell_type": "code",
      "metadata": {
        "colab": {
          "base_uri": "https://localhost:8080/"
        },
        "id": "r_6ufpXY_fiX",
        "outputId": "4e85e552-0b22-4fd1-ac97-6955036ba27d"
      },
      "source": [
        "_, _,_ =razgruzka(90100001, 1, 100, True)"
      ],
      "execution_count": 139,
      "outputs": [
        {
          "output_type": "stream",
          "name": "stdout",
          "text": [
            "Брака в вагоне, % 0.0039033048247695355\n",
            "Брака в лотке, % 0.014554333871131477\n",
            "Брака в вагоне, % 0.011976930665265879\n",
            "Брака в лотке, % 0.01054609312924595\n",
            "Брака в вагоне, % 0.014149394882463475\n",
            "Брака в лотке, % 0.004299423904423489\n",
            "Брака в вагоне, % 0.014410209336057191\n",
            "Брака в лотке, % 0.01207285917402675\n",
            "Брака в вагоне, % 0.0021031257418577774\n",
            "Брака в лотке, % 0.014695182789278147\n",
            "Брака в вагоне, % 0.012038842001594401\n",
            "Брака в лотке, % 0.005198447530938944\n",
            "Брака в вагоне, % 0.0010971942818630014\n",
            "Брака в лотке, % 0.0012143015785026567\n",
            "Брака в вагоне, % 0.0039036703338915795\n",
            "Брака в лотке, % 0.014183587070909939\n",
            "Брака в вагоне, % 0.006564031740032345\n",
            "Брака в лотке, % 0.00014433940767471286\n",
            "Брака в вагоне, % 0.0007662933005610306\n",
            "Брака в лотке, % 0.014676467945349944\n",
            "Брака в вагоне, % 0.006136436858847962\n",
            "Брака в лотке, % 0.002592270023248695\n",
            "Брака в вагоне, % 0.00813926936544406\n",
            "Брака в лотке, % 0.013295892726874816\n",
            "Брака в вагоне, % 0.012768582677794321\n",
            "Брака в лотке, % 0.013957838215798447\n",
            "Брака в вагоне, % 0.00656857092674055\n",
            "Брака в лотке, % 0.004132432926668063\n",
            "Брака в вагоне, % 0.008408735407317255\n",
            "Брака в лотке, % 0.010223607706639458\n",
            "Брака в вагоне, % 0.005918567907682922\n",
            "Брака в лотке, % 0.00629675441487073\n",
            "Брака в вагоне, % 0.01389468745788733\n",
            "Брака в лотке, % 0.010345177575841934\n",
            "Брака в вагоне, % 0.012932277665245894\n",
            "Брака в лотке, % 0.012941567000737775\n",
            "Брака в вагоне, % 0.010309255786251588\n",
            "Брака в лотке, % 0.010555868960449135\n",
            "Брака в вагоне, % 0.014691483757139606\n",
            "Брака в лотке, % 0.012636657896293209\n",
            "Брака в вагоне, % 0.011913284166658428\n",
            "Брака в лотке, % 0.0032500217447552432\n",
            "Брака в вагоне, % 0.00321520684068744\n",
            "Брака в лотке, % 0.012116643849868821\n",
            "Брака в вагоне, % 0.008909923809517833\n",
            "Брака в лотке, % 0.005730593476713441\n",
            "Брака в вагоне, % 0.008177956602037587\n",
            "Брака в лотке, % 0.014163174555624205\n",
            "Брака в вагоне, % 0.010808098922714738\n",
            "Брака в лотке, % 0.011979440007845574\n",
            "Брака в вагоне, % 0.013890954134245641\n",
            "Брака в лотке, % 0.007899498829078455\n",
            "Брака в вагоне, % 0.002389926079906207\n",
            "Брака в лотке, % 0.008586606710267458\n",
            "Брака в вагоне, % 0.004844503796949041\n",
            "Брака в лотке, % 0.00676641272273768\n",
            "Брака в вагоне, % 0.0010362102395680705\n",
            "Брака в лотке, % 0.0003235145693650404\n",
            "Брака в вагоне, % 0.008233875465663797\n",
            "Брака в лотке, % 0.012469119825237745\n",
            "Брака в вагоне, % 0.00048081363173947455\n",
            "Брака в лотке, % 0.0030244385747497785\n",
            "Брака в вагоне, % 0.012686448957939082\n",
            "Брака в лотке, % 0.004390993677939021\n",
            "Брака в вагоне, % 0.0076529320714565675\n",
            "Брака в лотке, % 0.011356663473231424\n",
            "Брака в вагоне, % 0.0027555945249224906\n",
            "Брака в лотке, % 0.007404793590304809\n",
            "Брака в вагоне, % 0.008791878680149455\n",
            "Брака в лотке, % 0.009320639933008827\n",
            "Брака в вагоне, % 0.004291591542105474\n",
            "Брака в лотке, % 0.009899141510660323\n",
            "Брака в вагоне, % 0.012348783318683536\n",
            "Брака в лотке, % 0.0012605039544701573\n",
            "Брака в вагоне, % 0.008680252773307102\n",
            "Брака в лотке, % 0.01387420251591979\n",
            "Брака в вагоне, % 0.0019871390125008213\n",
            "Брака в лотке, % 0.013090131073072319\n",
            "Брака в вагоне, % 4.636942776622799e-05\n",
            "Брака в лотке, % 0.0029850644414178445\n",
            "Брака в вагоне, % 0.0015572334910380309\n",
            "Брака в лотке, % 0.004595075520274759\n",
            "Брака в вагоне, % 0.009652026069883928\n",
            "Брака в лотке, % 0.00023331837549991463\n",
            "Брака в вагоне, % 0.001401373634969486\n",
            "Брака в лотке, % 0.01142295348713281\n",
            "Брака в вагоне, % 0.006775624428180284\n",
            "Брака в лотке, % 0.0039057482695384637\n",
            "Брака в вагоне, % 0.007901202360059827\n",
            "Брака в лотке, % 0.002010429433735262\n",
            "Брака в вагоне, % 0.00022920885492015318\n",
            "Брака в лотке, % 0.0023000805287857694\n",
            "Брака в вагоне, % 0.006749754102629957\n",
            "Брака в лотке, % 0.00014101758950217256\n",
            "Брака в вагоне, % 0.009714869800695209\n",
            "Брака в лотке, % 0.003105189286850701\n",
            "Брака в вагоне, % 0.014871324465136788\n",
            "Брака в лотке, % 0.003149931880305078\n",
            "Брака в вагоне, % 0.014223471938691732\n",
            "Брака в лотке, % 0.0031295532334195326\n",
            "Брака в вагоне, % 0.0014504834565769304\n",
            "Брака в лотке, % 0.005345536105853273\n",
            "Брака в вагоне, % 0.005445806898091886\n",
            "Брака в лотке, % 0.013147185281866508\n",
            "Брака в вагоне, % 0.006444923523721651\n",
            "Брака в лотке, % 0.013057275455336607\n",
            "Брака в вагоне, % 0.013376438346490724\n",
            "Брака в лотке, % 0.0013107275370492577\n",
            "Брака в вагоне, % 0.010613967851276366\n",
            "Брака в лотке, % 0.0015949389167492832\n",
            "Брака в вагоне, % 0.014877482277782886\n",
            "Брака в лотке, % 0.003150383213073335\n",
            "Брака в вагоне, % 0.014714407696478067\n",
            "Брака в лотке, % 0.012398325738969816\n",
            "Брака в вагоне, % 0.013694829943017153\n",
            "Брака в лотке, % 0.009091470463415477\n",
            "Брака в вагоне, % 0.013863316031880724\n",
            "Брака в лотке, % 0.005018548420768533\n",
            "Брака в вагоне, % 0.00907694063955876\n",
            "Брака в лотке, % 0.0009601735260695126\n",
            "Брака в вагоне, % 0.002666813199012131\n",
            "Брака в лотке, % 0.0084893867856723\n",
            "Брака в вагоне, % 0.00618743803552701\n",
            "Брака в лотке, % 0.0037183398387828463\n",
            "Брака в вагоне, % 0.0008262710333418005\n",
            "Брака в лотке, % 0.009357027251146987\n",
            "Брака в вагоне, % 0.0009373038872772854\n",
            "Брака в лотке, % 1.7156546116231518e-05\n",
            "Брака в вагоне, % 0.007051026087098441\n",
            "Брака в лотке, % 0.004294209786712966\n",
            "Брака в вагоне, % 0.012770796470294736\n",
            "Брака в лотке, % 0.014475231934294789\n",
            "Брака в вагоне, % 0.004873926395809128\n",
            "Брака в лотке, % 0.008281860757570128\n",
            "Брака в вагоне, % 0.012997846894386777\n",
            "Брака в лотке, % 0.006816579341423774\n",
            "Брака в вагоне, % 0.01163755632404899\n",
            "Брака в лотке, % 0.008737726611409268\n",
            "Брака в вагоне, % 0.013968343440661725\n",
            "Брака в лотке, % 0.013627250960543218\n",
            "Брака в вагоне, % 0.005903556775327868\n",
            "Брака в лотке, % 0.010879138823950028\n",
            "Брака в вагоне, % 0.008040603154339004\n",
            "Брака в лотке, % 0.008192419313327126\n",
            "Брака в вагоне, % 0.0013131428253739847\n",
            "Брака в лотке, % 0.00836620077221804\n",
            "Брака в вагоне, % 0.0014900986071541193\n",
            "Брака в лотке, % 0.01000548252071874\n",
            "Брака в вагоне, % 0.012477190713575236\n",
            "Брака в лотке, % 0.010269700277941019\n",
            "Брака в вагоне, % 0.005378035746634938\n",
            "Брака в лотке, % 0.014554880997535491\n",
            "Брака в вагоне, % 0.0007186135808469951\n",
            "Брака в лотке, % 0.006041579171466556\n",
            "Брака в вагоне, % 0.004436723705093857\n",
            "Брака в лотке, % 0.011019420421156964\n",
            "Брака в вагоне, % 0.010945156408519622\n",
            "Брака в лотке, % 0.0030658587027369505\n",
            "Брака в вагоне, % 0.013819342385458514\n",
            "Брака в лотке, % 0.0016211437421196067\n",
            "Брака в вагоне, % 0.0018541695484987546\n",
            "Брака в лотке, % 0.0018126878278316616\n",
            "Брака в вагоне, % 0.008523926251457531\n",
            "Брака в лотке, % 0.0039432032063636616\n",
            "Брака в вагоне, % 0.0026579286027967122\n",
            "Брака в лотке, % 0.01345621605997221\n",
            "Брака в вагоне, % 0.014538093652630212\n",
            "Брака в лотке, % 0.0027624352522771707\n",
            "Брака в вагоне, % 0.007250954731887314\n",
            "Брака в лотке, % 0.009508122202398231\n",
            "Брака в вагоне, % 0.000983333980327702\n",
            "Брака в лотке, % 0.0005516657071539844\n",
            "Брака в вагоне, % 0.002532936047604353\n",
            "Брака в лотке, % 0.013623545866275743\n",
            "Брака в вагоне, % 0.003851902714850604\n",
            "Брака в лотке, % 0.013664553855527764\n",
            "Брака в вагоне, % 0.0026520088066332953\n",
            "Брака в лотке, % 0.005556100385134907\n",
            "Брака в вагоне, % 0.011490430378822723\n",
            "Брака в лотке, % 0.005420318916697156\n",
            "Брака в вагоне, % 0.0033646614211261983\n",
            "Брака в лотке, % 0.014189990727339159\n",
            "Брака в вагоне, % 0.01124593044863497\n",
            "Брака в лотке, % 0.003358379125677678\n",
            "Брака в вагоне, % 0.01410884591005455\n",
            "Брака в лотке, % 0.007203295742091385\n",
            "Брака в вагоне, % 0.004959613048091709\n",
            "Брака в лотке, % 0.010413226542475423\n",
            "Брака в вагоне, % 0.006381101993829141\n",
            "Брака в лотке, % 0.010941070225428373\n",
            "Брака в вагоне, % 0.013416749219796294\n",
            "Брака в лотке, % 0.008989824053160215\n",
            "Брака в вагоне, % 0.007322721475918573\n",
            "Брака в лотке, % 0.009059697321625053\n",
            "Брака в вагоне, % 0.003616862547877932\n",
            "Брака в лотке, % 0.00482212886593602\n",
            "Брака в вагоне, % 0.0011244570649134415\n",
            "Брака в лотке, % 0.003832482386459248\n",
            "Брака в вагоне, % 0.003252352586161427\n",
            "Брака в лотке, % 0.012219810800310421\n",
            "Разгрузка завершена успешно\n"
          ]
        }
      ]
    },
    {
      "cell_type": "code",
      "metadata": {
        "colab": {
          "base_uri": "https://localhost:8080/"
        },
        "id": "aJB-kUeB_fm7",
        "outputId": "14175c62-8d11-440e-fbe6-4bd15abcf72b"
      },
      "source": [
        "vagons = pd.DataFrame(columns=['vagon', 'lotok', 'kol_parts', 'razgruzka', 'log_file', 'brak_%'])\n",
        "for iter in range(22):\n",
        "  vagons.loc[iter, 'vagon']='9010000'+str(iter+1)\n",
        "  vagons.loc[iter, 'lotok']=vagons.loc[iter, 'vagon']\n",
        "  vagons.loc[iter, 'kol_parts']=100\n",
        "  is_not_stopped, log, brak = razgruzka(vagons.loc[iter, 'vagon'], vagons.loc[iter, 'lotok'], vagons.loc[iter, 'kol_parts'], False)\n",
        "  logname = 'log'+str(iter)+'.csv'\n",
        "  log.to_csv(logname)\n",
        "  vagons.loc[iter, 'log_file'] = logname\n",
        "  if is_not_stopped==False:\n",
        "    vagons.loc[iter, 'razgruzka'] = 'Возвращен'\n",
        "  else:\n",
        "    vagons.loc[iter, 'razgruzka'] = 'Разгружен'\n",
        "  vagons.loc[iter, 'brak_%'] = brak\n",
        "print(vagons)"
      ],
      "execution_count": 180,
      "outputs": [
        {
          "output_type": "stream",
          "name": "stdout",
          "text": [
            "        vagon      lotok kol_parts  razgruzka   log_file      brak_%\n",
            "0    90100001   90100001       100  Разгружен   log0.csv  0.00816469\n",
            "1    90100002   90100002       100  Разгружен   log1.csv  0.00772552\n",
            "2    90100003   90100003       100  Разгружен   log2.csv  0.00686223\n",
            "3    90100004   90100004       100  Разгружен   log3.csv  0.00792862\n",
            "4    90100005   90100005       100  Разгружен   log4.csv  0.00756543\n",
            "5    90100006   90100006       100  Разгружен   log5.csv  0.00728391\n",
            "6    90100007   90100007       100  Разгружен   log6.csv  0.00699686\n",
            "7    90100008   90100008       100  Разгружен   log7.csv  0.00792743\n",
            "8    90100009   90100009       100  Разгружен   log8.csv   0.0076333\n",
            "9   901000010  901000010       100  Разгружен   log9.csv  0.00744046\n",
            "10  901000011  901000011       100  Разгружен  log10.csv  0.00742416\n",
            "11  901000012  901000012       100  Возвращен  log11.csv  0.00956519\n",
            "12  901000013  901000013       100  Разгружен  log12.csv   0.0081744\n",
            "13  901000014  901000014       100  Разгружен  log13.csv  0.00732006\n",
            "14  901000015  901000015       100  Разгружен  log14.csv  0.00750129\n",
            "15  901000016  901000016       100  Разгружен  log15.csv  0.00714238\n",
            "16  901000017  901000017       100  Разгружен  log16.csv  0.00794767\n",
            "17  901000018  901000018       100  Разгружен  log17.csv  0.00874123\n",
            "18  901000019  901000019       100  Разгружен  log18.csv  0.00758337\n",
            "19  901000020  901000020       100  Разгружен  log19.csv  0.00794604\n",
            "20  901000021  901000021       100  Возвращен  log20.csv   0.0108097\n",
            "21  901000022  901000022       100  Возвращен  log21.csv   0.0116093\n"
          ]
        }
      ]
    },
    {
      "cell_type": "code",
      "metadata": {
        "id": "Zx-4X-gG_fqS"
      },
      "source": [
        ""
      ],
      "execution_count": null,
      "outputs": []
    },
    {
      "cell_type": "code",
      "metadata": {
        "colab": {
          "base_uri": "https://localhost:8080/",
          "height": 390
        },
        "id": "KgBlNZKF_fwV",
        "outputId": "9dc00cdd-335a-4e39-d6ff-b31a7179a96b"
      },
      "source": [
        "import numpy as np\n",
        "import matplotlib.pyplot as plt\n",
        "\n",
        "\n",
        "\n",
        "fig, ax = plt.subplots()\n",
        "\n",
        "ax.bar(vagons[vagons['razgruzka']=='Возвращен']['vagon'], vagons[vagons['razgruzka']=='Возвращен']['brak_%'], color = 'PINK')\n",
        "ax.hlines(0.01,-1, 5, color = 'red',linestyles= '--')\n",
        "ax.set_title('Возвращенные вагоны')\n",
        "\n",
        "fig.set_figwidth(12)    #  ширина и\n",
        "fig.set_figheight(6)    #  высота \"Figure\"\n",
        "\n",
        "fig.set_facecolor('floralwhite')\n",
        "ax.set_facecolor('seashell')\n",
        "\n",
        "plt.show()"
      ],
      "execution_count": 182,
      "outputs": [
        {
          "output_type": "display_data",
          "data": {
            "image/png": "[encoded data removed]",
            "text/plain": [
              "<Figure size 864x432 with 1 Axes>"
            ]
          },
          "metadata": {}
        }
      ]
    },
    {
      "cell_type": "code",
      "metadata": {
        "id": "sEVhuM5__fx0"
      },
      "source": [
        ""
      ],
      "execution_count": null,
      "outputs": []
    }
  ]
}