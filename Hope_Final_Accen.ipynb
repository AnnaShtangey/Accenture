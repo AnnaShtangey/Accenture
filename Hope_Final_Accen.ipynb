{
  "nbformat": 4,
  "nbformat_minor": 0,
  "metadata": {
    "colab": {
      "name": "Accenture.ipynb",
      "provenance": [],
      "collapsed_sections": []
    },
    "kernelspec": {
      "name": "python3",
      "display_name": "Python 3"
    },
    "language_info": {
      "name": "python"
    }
  },
  "cells": [
    {
      "cell_type": "code",
      "metadata": {
        "id": "ixB-WaVwZooS"
      },
      "source": [
        "import cv2 as cv2\n",
        "import numpy as np"
      ],
      "execution_count": 11,
      "outputs": []
    },
    {
      "cell_type": "code",
      "metadata": {
        "id": "KXVeF0Idb6w1"
      },
      "source": [
        "img_grechka= cv2.imread('/content/drive/MyDrive/Accenture/гречка.jpg')\n",
        "img_perec=cv2.imread('/content/drive/MyDrive/Accenture/перец.jpg')"
      ],
      "execution_count": 336,
      "outputs": []
    },
    {
      "cell_type": "code",
      "metadata": {
        "id": "k-rgpFCJaG5D"
      },
      "source": [
        "grechka = np.array(cv2.cvtColor(img_grechka,cv2.COLOR_BGR2HSV))\n",
        "perec = np.array(cv2.cvtColor(img_perec,cv2.COLOR_BGR2HSV))"
      ],
      "execution_count": 337,
      "outputs": []
    },
    {
      "cell_type": "code",
      "metadata": {
        "colab": {
          "base_uri": "https://localhost:8080/"
        },
        "id": "qTEzOKnEoUZp",
        "outputId": "2088f414-ccc8-4ac3-de30-562f4eb2a0d0"
      },
      "source": [
        "grechka_pull=[]\n",
        "for elem in grechka:\n",
        "  if [elem in perec]==True:\n",
        "   \n",
        "    pass\n",
        "  else:\n",
        "    flag=0\n",
        "    if grechka_pull !=[]:\n",
        "      for n in range(len(grechka_pull)):\n",
        "        if elem in grechka_pull[n]:\n",
        "          flag=1\n",
        "      if flag==0:\n",
        "        grechka_pull.append(elem)\n",
        "\n",
        "perec_pull=[]\n",
        "for elem in perec:\n",
        "  if [elem in grechka]==True:\n",
        "   \n",
        "    pass\n",
        "  else:\n",
        "    flag=0\n",
        "    if perec_pull !=[]:\n",
        "      for n in range(len(perec_pull)):\n",
        "        if elem in perec_pull[n]:\n",
        "          flag=1\n",
        "      \n",
        "    if flag==0:\n",
        "      perec_pull.append(elem)"
      ],
      "execution_count": 338,
      "outputs": [
        {
          "output_type": "stream",
          "name": "stderr",
          "text": [
            "/usr/local/lib/python3.7/dist-packages/ipykernel_launcher.py:3: DeprecationWarning: elementwise comparison failed; this will raise an error in the future.\n",
            "  This is separate from the ipykernel package so we can avoid doing imports until\n",
            "/usr/local/lib/python3.7/dist-packages/ipykernel_launcher.py:17: DeprecationWarning: elementwise comparison failed; this will raise an error in the future.\n"
          ]
        }
      ]
    },
    {
      "cell_type": "code",
      "metadata": {
        "id": "KtRwQAHurJkJ"
      },
      "source": [
        "img= cv2.imread('/content/drive/MyDrive/Accenture/Вагоны/20211203_152859.jpg')\n",
        "img= np.array(cv2.cvtColor(img,cv2.COLOR_BGR2HSV))"
      ],
      "execution_count": 340,
      "outputs": []
    },
    {
      "cell_type": "code",
      "metadata": {
        "colab": {
          "base_uri": "https://localhost:8080/"
        },
        "id": "UwUV9z3mCReQ",
        "outputId": "552b8df9-374a-4553-b00c-2aaf775b67fc"
      },
      "source": [
        "grechka_count=0\n",
        "perec_count=0\n",
        "for elem in img:\n",
        "  for el in elem:\n",
        "    \n",
        "    if elem in grechka:\n",
        "      grechka_count+=1\n",
        "    if elem in perec:\n",
        "      perec_count+=1\n"
      ],
      "execution_count": 348,
      "outputs": [
        {
          "output_type": "stream",
          "name": "stderr",
          "text": [
            "/usr/local/lib/python3.7/dist-packages/ipykernel_launcher.py:6: DeprecationWarning: elementwise comparison failed; this will raise an error in the future.\n",
            "  \n",
            "/usr/local/lib/python3.7/dist-packages/ipykernel_launcher.py:8: DeprecationWarning: elementwise comparison failed; this will raise an error in the future.\n",
            "  \n"
          ]
        }
      ]
    },
    {
      "cell_type": "code",
      "metadata": {
        "colab": {
          "base_uri": "https://localhost:8080/"
        },
        "id": "cBlRr5yaqow1",
        "outputId": "d817e9cc-ab48-46ee-a07b-dcdb0876ff7c"
      },
      "source": [
        "\n",
        "print('Гречки'+ str(grechka_count))\n",
        "\n",
        "print('Перец'+ str(perec_count))\n",
        "if grechka_count+perec_count !=0:\n",
        "  brak=perec_count/(grechka_count+perec_count)\n",
        "  print(\"Брак =\" + str(brak*100)+\"%\")\n"
      ],
      "execution_count": 350,
      "outputs": [
        {
          "output_type": "stream",
          "name": "stdout",
          "text": [
            "Гречки0\n",
            "Перец0\n"
          ]
        }
      ]
    },
    {
      "cell_type": "code",
      "metadata": {
        "id": "1ZU0QjYsZqAc"
      },
      "source": [
        ""
      ],
      "execution_count": null,
      "outputs": []
    },
    {
      "cell_type": "code",
      "metadata": {
        "id": "jdGj1jVjZqKC"
      },
      "source": [
        ""
      ],
      "execution_count": null,
      "outputs": []
    },
    {
      "cell_type": "code",
      "metadata": {
        "id": "A7p7iujogHDK"
      },
      "source": [
        ""
      ],
      "execution_count": null,
      "outputs": []
    },
    {
      "cell_type": "code",
      "metadata": {
        "id": "CmBNGw_ggHLB"
      },
      "source": [
        ""
      ],
      "execution_count": null,
      "outputs": []
    }
  ]
}